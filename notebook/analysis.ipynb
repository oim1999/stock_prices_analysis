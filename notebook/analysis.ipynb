{
 "cells": [
  {
   "cell_type": "code",
   "execution_count": 21,
   "metadata": {},
   "outputs": [],
   "source": [
    "import os, sys\n",
    "\n",
    "# Example Notebook Code\n",
    "nbook_dir = os.getcwd()\n",
    "\n",
    "# Add the parent directory of the 'scripts' folder to sys.path\n",
    "sys.path.append(os.path.abspath(os.path.join(nbook_dir, '..')))"
   ]
  },
  {
   "cell_type": "code",
   "execution_count": 22,
   "metadata": {},
   "outputs": [],
   "source": [
    "from scripts.data_loader import load_data\n",
    "from scripts.data_analysis import calc_moving_avrg\n",
    "from scripts.data_visualization import plot_data\n",
    "from scripts.data_visualization import plot_univariate\n",
    "from scripts.data_visualization import plot_bivariate\n"
   ]
  },
  {
   "cell_type": "code",
   "execution_count": 23,
   "metadata": {},
   "outputs": [],
   "source": [
    "\n",
    "# Load the data\n",
    "stock_data = load_data(\"../yfinance_data/AAPL_historical_data.csv\")\n",
    "\n",
    "# Add a moving average column\n",
    "stock_data[\"Moving Average\"] = calc_moving_avrg(stock_data[\"Close\"], window=5)"
   ]
  }
 ],
 "metadata": {
  "kernelspec": {
   "display_name": ".myenv",
   "language": "python",
   "name": "python3"
  },
  "language_info": {
   "codemirror_mode": {
    "name": "ipython",
    "version": 3
   },
   "file_extension": ".py",
   "mimetype": "text/x-python",
   "name": "python",
   "nbconvert_exporter": "python",
   "pygments_lexer": "ipython3",
   "version": "3.12.3"
  }
 },
 "nbformat": 4,
 "nbformat_minor": 2
}
