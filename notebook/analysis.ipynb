{
 "cells": [
  {
   "cell_type": "code",
   "execution_count": 3,
   "metadata": {},
   "outputs": [],
   "source": [
    "import os, sys\n",
    "\n",
    "# Example Notebook Code\n",
    "nbook_dir = os.getcwd()\n",
    "\n",
    "# Add the parent directory of the 'scripts' folder to sys.path\n",
    "sys.path.append(os.path.abspath(os.path.join(nbook_dir, '..')))"
   ]
  },
  {
   "cell_type": "code",
   "execution_count": 5,
   "metadata": {},
   "outputs": [
    {
     "ename": "ImportError",
     "evalue": "cannot import name 'load_stock' from 'scripts.data_loader' (c:\\Users\\Alaa\\Documents\\KIFIYA\\kaim-week-1\\stock_price_analysis\\scripts\\data_loader.py)",
     "output_type": "error",
     "traceback": [
      "\u001b[1;31m---------------------------------------------------------------------------\u001b[0m",
      "\u001b[1;31mImportError\u001b[0m                               Traceback (most recent call last)",
      "Cell \u001b[1;32mIn[5], line 1\u001b[0m\n\u001b[1;32m----> 1\u001b[0m \u001b[38;5;28;01mfrom\u001b[39;00m \u001b[38;5;21;01mscripts\u001b[39;00m\u001b[38;5;21;01m.\u001b[39;00m\u001b[38;5;21;01mdata_loader\u001b[39;00m \u001b[38;5;28;01mimport\u001b[39;00m load_stock\n\u001b[0;32m      2\u001b[0m \u001b[38;5;28;01mfrom\u001b[39;00m \u001b[38;5;21;01mscripts\u001b[39;00m\u001b[38;5;21;01m.\u001b[39;00m\u001b[38;5;21;01mdata_analysis\u001b[39;00m \u001b[38;5;28;01mimport\u001b[39;00m calculate_moving_average\n\u001b[0;32m      3\u001b[0m \u001b[38;5;28;01mfrom\u001b[39;00m \u001b[38;5;21;01mscripts\u001b[39;00m\u001b[38;5;21;01m.\u001b[39;00m\u001b[38;5;21;01mdata_visualization\u001b[39;00m \u001b[38;5;28;01mimport\u001b[39;00m plot_stock_data\n",
      "\u001b[1;31mImportError\u001b[0m: cannot import name 'load_stock' from 'scripts.data_loader' (c:\\Users\\Alaa\\Documents\\KIFIYA\\kaim-week-1\\stock_price_analysis\\scripts\\data_loader.py)"
     ]
    }
   ],
   "source": [
    "from scripts.data_loader import load_stock\n",
    "from scripts.data_analysis import calculate_moving_average\n",
    "from scripts.data_visualization import plot_stock_data\n",
    "from scripts.data_visualization import plot_univariate\n",
    "from scripts.data_visualization import plot_bivariate\n"
   ]
  }
 ],
 "metadata": {
  "kernelspec": {
   "display_name": ".myenv",
   "language": "python",
   "name": "python3"
  },
  "language_info": {
   "codemirror_mode": {
    "name": "ipython",
    "version": 3
   },
   "file_extension": ".py",
   "mimetype": "text/x-python",
   "name": "python",
   "nbconvert_exporter": "python",
   "pygments_lexer": "ipython3",
   "version": "3.12.3"
  }
 },
 "nbformat": 4,
 "nbformat_minor": 2
}
